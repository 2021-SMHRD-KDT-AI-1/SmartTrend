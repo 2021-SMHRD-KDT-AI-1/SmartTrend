{
 "cells": [
  {
   "cell_type": "markdown",
   "metadata": {},
   "source": [
    "# 참조 : https://jeongwookie.github.io/2019/03/20/190320-collect-data-using-naver-search-api/"
   ]
  },
  {
   "cell_type": "code",
   "execution_count": 12,
   "metadata": {},
   "outputs": [],
   "source": [
    "import requests\n",
    "from urllib.parse import quote\n",
    "import json\n",
    "import pandas as pd\n",
    " \n",
    "# 네이버 API CALL\n",
    "def call(keyword, start):\n",
    "    encText = quote(keyword)\n",
    "    url = \"https://openapi.naver.com/v1/search/blog?query=\" + encText + \"&display=100\" + \"&sort=date\" + \"&start=\" + str(start)  \n",
    "    \n",
    "    result = requests.get(url=url, headers={\"X-Naver-Client-Id\":\"xnseG1564cH5ar5kBbxu\",\n",
    "                                          \"X-Naver-Client-Secret\":\"yJ9Qj76Pez\"})\n",
    "    print(result)  # Response [200]\n",
    "    return result.json()\n",
    " \n",
    "# 1000개의 검색 결과 받아오기\n",
    "def get1000results(keyword):\n",
    "    list = []\n",
    "    for num in range(0,10):\n",
    "        list = list + call(keyword, num * 100 + 1)['items'] # list 안에 키값이 ’item’인 애들만 넣기\n",
    "    return list"
   ]
  },
  {
   "cell_type": "code",
   "execution_count": 13,
   "metadata": {},
   "outputs": [
    {
     "name": "stdout",
     "output_type": "stream",
     "text": [
      "<Response [200]>\n",
      "<Response [200]>\n",
      "<Response [200]>\n",
      "<Response [200]>\n",
      "<Response [200]>\n",
      "<Response [200]>\n",
      "<Response [200]>\n",
      "<Response [200]>\n",
      "<Response [200]>\n",
      "<Response [200]>\n",
      "<Response [200]>\n",
      "<Response [200]>\n",
      "<Response [200]>\n",
      "<Response [200]>\n",
      "<Response [200]>\n",
      "<Response [200]>\n",
      "<Response [200]>\n",
      "<Response [200]>\n",
      "<Response [200]>\n",
      "<Response [200]>\n",
      "<Response [200]>\n",
      "<Response [200]>\n",
      "<Response [200]>\n",
      "<Response [200]>\n",
      "<Response [200]>\n",
      "<Response [200]>\n",
      "<Response [200]>\n",
      "<Response [200]>\n",
      "<Response [200]>\n",
      "<Response [200]>\n"
     ]
    },
    {
     "data": {
      "text/plain": [
       "2677718"
      ]
     },
     "execution_count": 13,
     "metadata": {},
     "output_type": "execute_result"
    }
   ],
   "source": [
    "list = []\n",
    "search = get1000results(\"광주광역시 맛집\")\n",
    "search2 = get1000results(\"광주광역시 여행지\")\n",
    "search3 = get1000results(\"광주광역시 숙박\")\n",
    "list = list + search + search2 + search3\n",
    " \n",
    "file = open(\"./gwangju.json\", \"w+\")  # json 파일을 작성 가능한 상태로 열기 (=만들기)\n",
    "file.write(json.dumps(list))  # 작성"
   ]
  },
  {
   "cell_type": "code",
   "execution_count": 15,
   "metadata": {},
   "outputs": [],
   "source": [
    "df = pd.read_json(\"./gwangju.json\")\n",
    "\n",
    "df.to_excel(\"gwangju.xlsx\")"
   ]
  },
  {
   "cell_type": "code",
   "execution_count": null,
   "metadata": {},
   "outputs": [],
   "source": [
    "# 문제점 : 문장이 길어질 시 내용 생략, 대부분 긍정적인 리뷰 (부정 데이터 적음)"
   ]
  }
 ],
 "metadata": {
  "kernelspec": {
   "display_name": "Python 3",
   "language": "python",
   "name": "python3"
  },
  "language_info": {
   "codemirror_mode": {
    "name": "ipython",
    "version": 3
   },
   "file_extension": ".py",
   "mimetype": "text/x-python",
   "name": "python",
   "nbconvert_exporter": "python",
   "pygments_lexer": "ipython3",
   "version": "3.8.5"
  }
 },
 "nbformat": 4,
 "nbformat_minor": 4
}
