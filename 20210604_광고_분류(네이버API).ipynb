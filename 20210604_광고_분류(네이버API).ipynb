{
 "cells": [
  {
   "cell_type": "markdown",
   "metadata": {},
   "source": [
    "# 변수명 안내\n",
    "- total_data : 수집된 키워드별 리뷰 데이터\n",
    "- stopwords : 불용어 집합 변수\n",
    "- threshold : 최소 빈도수 값 정의"
   ]
  },
  {
   "cell_type": "code",
   "execution_count": null,
   "metadata": {},
   "outputs": [],
   "source": [
    "!pip install konlpy"
   ]
  },
  {
   "cell_type": "code",
   "execution_count": 1,
   "metadata": {},
   "outputs": [],
   "source": [
    "import time\n",
    "import re\n",
    "import numpy as np\n",
    "import pandas as pd\n",
    "import matplotlib.pyplot as plt\n",
    "plt.style.use('seaborn-white')\n",
    "\n",
    "from konlpy.tag import Okt"
   ]
  },
  {
   "cell_type": "markdown",
   "metadata": {},
   "source": [
    "## 데이터 로드"
   ]
  },
  {
   "cell_type": "code",
   "execution_count": 26,
   "metadata": {},
   "outputs": [
    {
     "name": "stdout",
     "output_type": "stream",
     "text": [
      "1000\n"
     ]
    }
   ],
   "source": [
    "#csv\n",
    "# total_data = pd.read_csv(\n",
    "#     #'./ReviewDataSet/Lodgment_Integrated.csv', ###SNS에서 수집한 데이터 로드\n",
    "#     encoding='CP949'\n",
    "# )\n",
    "\n",
    "#excel\n",
    "total_data = pd.read_excel('gwangjuRest.xlsx')\n",
    "\n",
    "#데이터 value의 수 확인\n",
    "print(len(total_data))"
   ]
  },
  {
   "cell_type": "code",
   "execution_count": 6,
   "metadata": {
    "collapsed": true
   },
   "outputs": [
    {
     "data": {
      "text/html": [
       "<div>\n",
       "<style scoped>\n",
       "    .dataframe tbody tr th:only-of-type {\n",
       "        vertical-align: middle;\n",
       "    }\n",
       "\n",
       "    .dataframe tbody tr th {\n",
       "        vertical-align: top;\n",
       "    }\n",
       "\n",
       "    .dataframe thead th {\n",
       "        text-align: right;\n",
       "    }\n",
       "</style>\n",
       "<table border=\"1\" class=\"dataframe\">\n",
       "  <thead>\n",
       "    <tr style=\"text-align: right;\">\n",
       "      <th></th>\n",
       "      <th>Unnamed: 0</th>\n",
       "      <th>title</th>\n",
       "      <th>link</th>\n",
       "      <th>description</th>\n",
       "      <th>bloggername</th>\n",
       "      <th>bloggerlink</th>\n",
       "      <th>postdate</th>\n",
       "    </tr>\n",
       "  </thead>\n",
       "  <tbody>\n",
       "    <tr>\n",
       "      <th>0</th>\n",
       "      <td>0</td>\n",
       "      <td>국내 여행 갈 때 필수 아이템 된 지역화폐카드, 최대 10% 캐시백...</td>\n",
       "      <td>https://blog.naver.com/goldentreeconsulting?Re...</td>\n",
       "      <td>제주도 등 국내 &lt;b&gt;여행지&lt;/b&gt;를 찾는 관광객이 많아지고 있다. 제주도관광협회에...</td>\n",
       "      <td>싱가포르 법인설립 전문회사</td>\n",
       "      <td>https://blog.naver.com/goldentreeconsulting</td>\n",
       "      <td>20210603</td>\n",
       "    </tr>\n",
       "    <tr>\n",
       "      <th>1</th>\n",
       "      <td>1</td>\n",
       "      <td>[정치포커스] &lt;b&gt;광주광역시&lt;/b&gt; 광산구, ‘&lt;b&gt;광주&lt;/b&gt; 유니버시티...</td>\n",
       "      <td>https://blog.naver.com/jebofocus?Redirect=Log&amp;...</td>\n",
       "      <td>싶은 &lt;b&gt;여행지&lt;/b&gt;, &lt;b&gt;광주&lt;/b&gt;를 만드는 첫 출발점”이라며 &amp;quot;...</td>\n",
       "      <td>정치포커스</td>\n",
       "      <td>https://blog.naver.com/jebofocus</td>\n",
       "      <td>20210602</td>\n",
       "    </tr>\n",
       "    <tr>\n",
       "      <th>2</th>\n",
       "      <td>2</td>\n",
       "      <td>[이화자수] 의상에 자수놓기/ 조끼 자수/ 의상리폼하기...</td>\n",
       "      <td>https://blog.naver.com/2236610?Redirect=Log&amp;lo...</td>\n",
       "      <td>다양한 &lt;b&gt;여행지&lt;/b&gt;를 아무런 제약 없이 핸드폰 하나로 자유롭게 볼 수 있기에...</td>\n",
       "      <td>꿈꾸는 자수공장:)</td>\n",
       "      <td>https://blog.naver.com/2236610</td>\n",
       "      <td>20210602</td>\n",
       "    </tr>\n",
       "    <tr>\n",
       "      <th>3</th>\n",
       "      <td>3</td>\n",
       "      <td>첫글 _ 백문 백답</td>\n",
       "      <td>https://blog.naver.com/bc91102?Redirect=Log&amp;lo...</td>\n",
       "      <td>&lt;b&gt;광주광역시&lt;/b&gt; 7. 지금 살고있는 동네는? 띵동 비밀 8. 남들이 모르는 ...</td>\n",
       "      <td>ᴍʏ sᴘᴀᴄᴇ</td>\n",
       "      <td>https://blog.naver.com/bc91102</td>\n",
       "      <td>20210602</td>\n",
       "    </tr>\n",
       "    <tr>\n",
       "      <th>4</th>\n",
       "      <td>4</td>\n",
       "      <td>1박2일/2박3일 국내여행 패키지 추천 상품 (일정/가격/예약)</td>\n",
       "      <td>https://blog.naver.com/hnltour?Redirect=Log&amp;lo...</td>\n",
       "      <td>&lt;b&gt;광주광역시&lt;/b&gt;와 &lt;b&gt;광주&lt;/b&gt;관광재단에서 지원하는 상품으로 매우 저렴한...</td>\n",
       "      <td>봄‧여름‧가을‧겨울 행복충전 하늘투어</td>\n",
       "      <td>https://blog.naver.com/hnltour</td>\n",
       "      <td>20210601</td>\n",
       "    </tr>\n",
       "    <tr>\n",
       "      <th>5</th>\n",
       "      <td>5</td>\n",
       "      <td>6월 &lt;b&gt;여행지&lt;/b&gt; 추천 양림동 펭귄마을에서 즐길 수 있는 BEST 3</td>\n",
       "      <td>https://blog.naver.com/kyoung700530?Redirect=L...</td>\n",
       "      <td>신청대상 &lt;b&gt;광주광역시&lt;/b&gt; 소재 사업자를 보유하고 있는 예술인 등 신청방법 양...</td>\n",
       "      <td>블루 바람돌이</td>\n",
       "      <td>https://blog.naver.com/kyoung700530</td>\n",
       "      <td>20210601</td>\n",
       "    </tr>\n",
       "    <tr>\n",
       "      <th>6</th>\n",
       "      <td>6</td>\n",
       "      <td>6월 &lt;b&gt;여행지&lt;/b&gt; 추천 양림동 펭귄마을에서 즐길 수 있는 BEST 3</td>\n",
       "      <td>https://blog.naver.com/o-hands?Redirect=Log&amp;lo...</td>\n",
       "      <td>양림동 펭귄마을의 매력 BEST 3 [6월 &lt;b&gt;여행지&lt;/b&gt; 추천] 거리 곳곳에 ...</td>\n",
       "      <td>오핸즈_광주수제공방육성사업</td>\n",
       "      <td>https://blog.naver.com/o-hands</td>\n",
       "      <td>20210601</td>\n",
       "    </tr>\n",
       "    <tr>\n",
       "      <th>7</th>\n",
       "      <td>7</td>\n",
       "      <td>전라도 &lt;b&gt;여행지&lt;/b&gt; 추천 전남 장성 황룡강 생태공원 꽃구경 맘껏</td>\n",
       "      <td>https://blog.naver.com/gebera12?Redirect=Log&amp;l...</td>\n",
       "      <td>29 전남 지역 코로나19 확산세로 1달을 주말에 나가지도 않고 집콕만 하던 아델레...</td>\n",
       "      <td>아델레 Story</td>\n",
       "      <td>https://blog.naver.com/gebera12</td>\n",
       "      <td>20210601</td>\n",
       "    </tr>\n",
       "    <tr>\n",
       "      <th>8</th>\n",
       "      <td>8</td>\n",
       "      <td>&lt;b&gt;광주광역시&lt;/b&gt; 근교 산책하기 좋은 화순 세량제 세량지 / 화순군...</td>\n",
       "      <td>https://blog.naver.com/kkjjgg1914?Redirect=Log...</td>\n",
       "      <td>왼쪽에 보이는 건물이 아까 그 화장실이에요 세량제는 저 방향입니다~~ 지도는 참고하...</td>\n",
       "      <td>KnB홈케어 (Kitchen &amp; Bathroom Homecare)</td>\n",
       "      <td>https://blog.naver.com/kkjjgg1914</td>\n",
       "      <td>20210529</td>\n",
       "    </tr>\n",
       "    <tr>\n",
       "      <th>9</th>\n",
       "      <td>9</td>\n",
       "      <td>100문 100답</td>\n",
       "      <td>https://blog.naver.com/coinseo?Redirect=Log&amp;lo...</td>\n",
       "      <td>나는 그 책을 읽으면서 엄청 치를 떨었는데 그게 실화라는 것에 한 번 놀랬고, &lt;b...</td>\n",
       "      <td>815</td>\n",
       "      <td>https://blog.naver.com/coinseo</td>\n",
       "      <td>20210529</td>\n",
       "    </tr>\n",
       "  </tbody>\n",
       "</table>\n",
       "</div>"
      ],
      "text/plain": [
       "   Unnamed: 0                                           title  \\\n",
       "0           0       국내 여행 갈 때 필수 아이템 된 지역화폐카드, 최대 10% 캐시백...    \n",
       "1           1  [정치포커스] <b>광주광역시</b> 광산구, ‘<b>광주</b> 유니버시티...    \n",
       "2           2              [이화자수] 의상에 자수놓기/ 조끼 자수/ 의상리폼하기...    \n",
       "3           3                                      첫글 _ 백문 백답   \n",
       "4           4             1박2일/2박3일 국내여행 패키지 추천 상품 (일정/가격/예약)   \n",
       "5           5      6월 <b>여행지</b> 추천 양림동 펭귄마을에서 즐길 수 있는 BEST 3   \n",
       "6           6      6월 <b>여행지</b> 추천 양림동 펭귄마을에서 즐길 수 있는 BEST 3   \n",
       "7           7         전라도 <b>여행지</b> 추천 전남 장성 황룡강 생태공원 꽃구경 맘껏   \n",
       "8           8    <b>광주광역시</b> 근교 산책하기 좋은 화순 세량제 세량지 / 화순군...    \n",
       "9           9                                       100문 100답   \n",
       "\n",
       "                                                link  \\\n",
       "0  https://blog.naver.com/goldentreeconsulting?Re...   \n",
       "1  https://blog.naver.com/jebofocus?Redirect=Log&...   \n",
       "2  https://blog.naver.com/2236610?Redirect=Log&lo...   \n",
       "3  https://blog.naver.com/bc91102?Redirect=Log&lo...   \n",
       "4  https://blog.naver.com/hnltour?Redirect=Log&lo...   \n",
       "5  https://blog.naver.com/kyoung700530?Redirect=L...   \n",
       "6  https://blog.naver.com/o-hands?Redirect=Log&lo...   \n",
       "7  https://blog.naver.com/gebera12?Redirect=Log&l...   \n",
       "8  https://blog.naver.com/kkjjgg1914?Redirect=Log...   \n",
       "9  https://blog.naver.com/coinseo?Redirect=Log&lo...   \n",
       "\n",
       "                                         description  \\\n",
       "0  제주도 등 국내 <b>여행지</b>를 찾는 관광객이 많아지고 있다. 제주도관광협회에...   \n",
       "1  싶은 <b>여행지</b>, <b>광주</b>를 만드는 첫 출발점”이라며 &quot;...   \n",
       "2  다양한 <b>여행지</b>를 아무런 제약 없이 핸드폰 하나로 자유롭게 볼 수 있기에...   \n",
       "3  <b>광주광역시</b> 7. 지금 살고있는 동네는? 띵동 비밀 8. 남들이 모르는 ...   \n",
       "4  <b>광주광역시</b>와 <b>광주</b>관광재단에서 지원하는 상품으로 매우 저렴한...   \n",
       "5  신청대상 <b>광주광역시</b> 소재 사업자를 보유하고 있는 예술인 등 신청방법 양...   \n",
       "6  양림동 펭귄마을의 매력 BEST 3 [6월 <b>여행지</b> 추천] 거리 곳곳에 ...   \n",
       "7  29 전남 지역 코로나19 확산세로 1달을 주말에 나가지도 않고 집콕만 하던 아델레...   \n",
       "8  왼쪽에 보이는 건물이 아까 그 화장실이에요 세량제는 저 방향입니다~~ 지도는 참고하...   \n",
       "9  나는 그 책을 읽으면서 엄청 치를 떨었는데 그게 실화라는 것에 한 번 놀랬고, <b...   \n",
       "\n",
       "                            bloggername  \\\n",
       "0                        싱가포르 법인설립 전문회사   \n",
       "1                                 정치포커스   \n",
       "2                            꿈꾸는 자수공장:)   \n",
       "3                              ᴍʏ sᴘᴀᴄᴇ   \n",
       "4                  봄‧여름‧가을‧겨울 행복충전 하늘투어   \n",
       "5                               블루 바람돌이   \n",
       "6                        오핸즈_광주수제공방육성사업   \n",
       "7                             아델레 Story   \n",
       "8  KnB홈케어 (Kitchen & Bathroom Homecare)   \n",
       "9                                   815   \n",
       "\n",
       "                                   bloggerlink  postdate  \n",
       "0  https://blog.naver.com/goldentreeconsulting  20210603  \n",
       "1             https://blog.naver.com/jebofocus  20210602  \n",
       "2               https://blog.naver.com/2236610  20210602  \n",
       "3               https://blog.naver.com/bc91102  20210602  \n",
       "4               https://blog.naver.com/hnltour  20210601  \n",
       "5          https://blog.naver.com/kyoung700530  20210601  \n",
       "6               https://blog.naver.com/o-hands  20210601  \n",
       "7              https://blog.naver.com/gebera12  20210601  \n",
       "8            https://blog.naver.com/kkjjgg1914  20210529  \n",
       "9               https://blog.naver.com/coinseo  20210529  "
      ]
     },
     "execution_count": 6,
     "metadata": {},
     "output_type": "execute_result"
    }
   ],
   "source": [
    "#10개 value 확인\n",
    "total_data[:10]"
   ]
  },
  {
   "cell_type": "markdown",
   "metadata": {},
   "source": [
    "## 불필요 컬럼 제거"
   ]
  },
  {
   "cell_type": "code",
   "execution_count": 27,
   "metadata": {},
   "outputs": [
    {
     "data": {
      "text/plain": [
       "Index(['Unnamed: 0', 'title', 'link', 'description', 'bloggername',\n",
       "       'bloggerlink', 'postdate'],\n",
       "      dtype='object')"
      ]
     },
     "execution_count": 27,
     "metadata": {},
     "output_type": "execute_result"
    }
   ],
   "source": [
    "#컬럼 확인\n",
    "total_data.columns"
   ]
  },
  {
   "cell_type": "code",
   "execution_count": 28,
   "metadata": {},
   "outputs": [],
   "source": [
    "#리뷰내용컬럼(description) 빼고 제거\n",
    "total_data = total_data.drop(['Unnamed: 0', 'title', 'link', 'bloggername', 'bloggerlink', 'postdate'], axis=1)"
   ]
  },
  {
   "cell_type": "code",
   "execution_count": 29,
   "metadata": {},
   "outputs": [],
   "source": [
    "#컬럼명 변경\n",
    "total_data.columns = ['document']\n",
    "\n",
    "#label컬럼 추가\n",
    "total_data[\"label\"] = 0"
   ]
  },
  {
   "cell_type": "markdown",
   "metadata": {},
   "source": [
    "## 중복 및 결측치 처리\n",
    "- 데이터 개수 확인\n",
    "- 데이터에 중복이 존재한다면 이를 제거"
   ]
  },
  {
   "cell_type": "code",
   "execution_count": 30,
   "metadata": {},
   "outputs": [
    {
     "name": "stdout",
     "output_type": "stream",
     "text": [
      "1000\n"
     ]
    }
   ],
   "source": [
    "#유니크한 value의 개수 확인\n",
    "print(total_data['document'].nunique())\n",
    "\n",
    "# 중복 제거\n",
    "total_data.drop_duplicates(subset=['document'], inplace=True)"
   ]
  },
  {
   "cell_type": "code",
   "execution_count": 31,
   "metadata": {},
   "outputs": [
    {
     "name": "stdout",
     "output_type": "stream",
     "text": [
      "document    0\n",
      "label       0\n",
      "dtype: int64\n"
     ]
    }
   ],
   "source": [
    "#결측치 개수 확인\n",
    "print(total_data.isnull().sum())\n",
    "\n",
    "# 결측치 제거\n",
    "total_data = total_data.dropna(how='any')"
   ]
  },
  {
   "cell_type": "markdown",
   "metadata": {},
   "source": [
    "## 데이터 정제\n",
    "- 데이터에서 한글과 공백을 제외하고 모두 제거"
   ]
  },
  {
   "cell_type": "code",
   "execution_count": 32,
   "metadata": {},
   "outputs": [
    {
     "data": {
      "text/html": [
       "<div>\n",
       "<style scoped>\n",
       "    .dataframe tbody tr th:only-of-type {\n",
       "        vertical-align: middle;\n",
       "    }\n",
       "\n",
       "    .dataframe tbody tr th {\n",
       "        vertical-align: top;\n",
       "    }\n",
       "\n",
       "    .dataframe thead th {\n",
       "        text-align: right;\n",
       "    }\n",
       "</style>\n",
       "<table border=\"1\" class=\"dataframe\">\n",
       "  <thead>\n",
       "    <tr style=\"text-align: right;\">\n",
       "      <th></th>\n",
       "      <th>document</th>\n",
       "      <th>label</th>\n",
       "    </tr>\n",
       "  </thead>\n",
       "  <tbody>\n",
       "    <tr>\n",
       "      <th>0</th>\n",
       "      <td>제주도 등 국내 여행지를 찾는 관광객이 많아지고 있다 제주도관광협회에 따르면 월 한...</td>\n",
       "      <td>0</td>\n",
       "    </tr>\n",
       "    <tr>\n",
       "      <th>1</th>\n",
       "      <td>싶은 여행지 광주를 만드는 첫 출발점이라며 로컬크루가 역량을 맘껏 펼칠 수 있도록 ...</td>\n",
       "      <td>0</td>\n",
       "    </tr>\n",
       "    <tr>\n",
       "      <th>2</th>\n",
       "      <td>다양한 여행지를 아무런 제약 없이 핸드폰 하나로 자유롭게 볼 수 있기에 유튜브 시장...</td>\n",
       "      <td>0</td>\n",
       "    </tr>\n",
       "    <tr>\n",
       "      <th>3</th>\n",
       "      <td>광주광역시  지금 살고있는 동네는 띵동 비밀  남들이 모르는 나 관종이다 그리고 상...</td>\n",
       "      <td>0</td>\n",
       "    </tr>\n",
       "    <tr>\n",
       "      <th>4</th>\n",
       "      <td>광주광역시와 광주관광재단에서 지원하는 상품으로 매우 저렴한 가격에 다녀오실 수 있는...</td>\n",
       "      <td>0</td>\n",
       "    </tr>\n",
       "    <tr>\n",
       "      <th>5</th>\n",
       "      <td>신청대상 광주광역시 소재 사업자를 보유하고 있는 예술인 등 신청방법 양림동펭귄마을공...</td>\n",
       "      <td>0</td>\n",
       "    </tr>\n",
       "    <tr>\n",
       "      <th>6</th>\n",
       "      <td>양림동 펭귄마을의 매력   월 여행지 추천 거리 곳곳에 초록이 짙어지는 월의 막바지...</td>\n",
       "      <td>0</td>\n",
       "    </tr>\n",
       "    <tr>\n",
       "      <th>7</th>\n",
       "      <td>전남 지역 코로나 확산세로 달을 주말에 나가지도 않고 집콕만 하던 아델레네 가족 ...</td>\n",
       "      <td>0</td>\n",
       "    </tr>\n",
       "    <tr>\n",
       "      <th>8</th>\n",
       "      <td>왼쪽에 보이는 건물이 아까 그 화장실이에요 세량제는 저 방향입니다 지도는 참고하세요...</td>\n",
       "      <td>0</td>\n",
       "    </tr>\n",
       "    <tr>\n",
       "      <th>9</th>\n",
       "      <td>나는 그 책을 읽으면서 엄청 치를 떨었는데 그게 실화라는 것에 한 번 놀랬고 광주광...</td>\n",
       "      <td>0</td>\n",
       "    </tr>\n",
       "  </tbody>\n",
       "</table>\n",
       "</div>"
      ],
      "text/plain": [
       "                                            document  label\n",
       "0  제주도 등 국내 여행지를 찾는 관광객이 많아지고 있다 제주도관광협회에 따르면 월 한...      0\n",
       "1  싶은 여행지 광주를 만드는 첫 출발점이라며 로컬크루가 역량을 맘껏 펼칠 수 있도록 ...      0\n",
       "2  다양한 여행지를 아무런 제약 없이 핸드폰 하나로 자유롭게 볼 수 있기에 유튜브 시장...      0\n",
       "3  광주광역시  지금 살고있는 동네는 띵동 비밀  남들이 모르는 나 관종이다 그리고 상...      0\n",
       "4  광주광역시와 광주관광재단에서 지원하는 상품으로 매우 저렴한 가격에 다녀오실 수 있는...      0\n",
       "5  신청대상 광주광역시 소재 사업자를 보유하고 있는 예술인 등 신청방법 양림동펭귄마을공...      0\n",
       "6  양림동 펭귄마을의 매력   월 여행지 추천 거리 곳곳에 초록이 짙어지는 월의 막바지...      0\n",
       "7   전남 지역 코로나 확산세로 달을 주말에 나가지도 않고 집콕만 하던 아델레네 가족 ...      0\n",
       "8  왼쪽에 보이는 건물이 아까 그 화장실이에요 세량제는 저 방향입니다 지도는 참고하세요...      0\n",
       "9  나는 그 책을 읽으면서 엄청 치를 떨었는데 그게 실화라는 것에 한 번 놀랬고 광주광...      0"
      ]
     },
     "execution_count": 32,
     "metadata": {},
     "output_type": "execute_result"
    }
   ],
   "source": [
    "# replace 에 포함된 나머지 문자들 제거\n",
    "total_data['document'] = total_data['document'].str.replace(\"[^ㄱ-ㅎㅏ-ㅣ가-힣 ]\",\"\")\n",
    "\n",
    "total_data[:10]"
   ]
  },
  {
   "cell_type": "code",
   "execution_count": 7,
   "metadata": {},
   "outputs": [
    {
     "name": "stdout",
     "output_type": "stream",
     "text": [
      "36147\n",
      "document    16\n",
      "label        0\n",
      "dtype: int64\n"
     ]
    }
   ],
   "source": [
    "# 빈 값이 얼마나 되는지 확인\n",
    "total_data['document'].replace('', np.nan, inplace=True)\n",
    "print(len(total_data))\n",
    "print(total_data.isnull().sum())"
   ]
  },
  {
   "cell_type": "code",
   "execution_count": 8,
   "metadata": {},
   "outputs": [
    {
     "name": "stdout",
     "output_type": "stream",
     "text": [
      "36131\n"
     ]
    }
   ],
   "source": [
    "# 빈 공간 제거\n",
    "total_data = total_data.dropna(how='any')\n",
    "print(len(total_data))"
   ]
  },
  {
   "cell_type": "code",
   "execution_count": null,
   "metadata": {},
   "outputs": [],
   "source": [
    "#저장\n",
    "total_data.to_csv('Lodgment_Integrated.csv', encoding = 'CP949')"
   ]
  }
 ],
 "metadata": {
  "kernelspec": {
   "display_name": "Python 3",
   "language": "python",
   "name": "python3"
  },
  "language_info": {
   "codemirror_mode": {
    "name": "ipython",
    "version": 3
   },
   "file_extension": ".py",
   "mimetype": "text/x-python",
   "name": "python",
   "nbconvert_exporter": "python",
   "pygments_lexer": "ipython3",
   "version": "3.8.5"
  }
 },
 "nbformat": 4,
 "nbformat_minor": 5
}
