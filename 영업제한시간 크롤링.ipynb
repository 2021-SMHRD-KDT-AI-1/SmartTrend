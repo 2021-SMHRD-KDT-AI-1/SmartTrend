{
 "cells": [
  {
   "cell_type": "code",
   "execution_count": 134,
   "metadata": {},
   "outputs": [
    {
     "data": {
      "text/plain": [
       "<Response [200]>"
      ]
     },
     "execution_count": 134,
     "metadata": {},
     "output_type": "execute_result"
    }
   ],
   "source": [
    "import requests as req\n",
    "\n",
    "jeju = \"https://search.naver.com/search.naver?query=%EC%A0%9C%EC%A3%BC%EB%8F%84+%EC%98%81%EC%97%85+%EC%A0%9C%ED%95%9C+%EC%8B%9C%EA%B0%84&where=news&ie=utf8&sm=nws_hty\"\n",
    "gwangju = \"https://search.naver.com/search.naver?sm=tab_hty.top&where=news&query=%EA%B4%91%EC%A3%BC+%EC%98%81%EC%97%85+%EC%A0%9C%ED%95%9C+%EC%8B%9C%EA%B0%84&oquery=%EC%84%9C%EC%9A%B8+%EC%98%81%EC%97%85+%EC%A0%9C%ED%95%9C+%EC%8B%9C%EA%B0%84&tqi=h7d1xwprvN8ssg3QScsssssst%2Bw-172064&nso=so%3Ar%2Cp%3A1d&mynews=0&office_section_code=0&office_type=0&pd=4&photo=0&sort=0\"\n",
    "busan = \"https://search.naver.com/search.naver?sm=tab_hty.top&where=news&query=%EB%B6%80%EC%82%B0+%EC%98%81%EC%97%85+%EC%A0%9C%ED%95%9C+%EC%8B%9C%EA%B0%84&oquery=%EA%B4%91%EC%A3%BC+%EC%98%81%EC%97%85+%EC%A0%9C%ED%95%9C+%EC%8B%9C%EA%B0%84&tqi=h7d1zlprvmsssTR3Ppsssssst%2Bs-360993&nso=so%3Ar%2Cp%3A1d&mynews=0&office_section_code=0&office_type=0&pd=4&photo=0&sort=0\"\n",
    "busan_news = \"http://news.bbsi.co.kr/news/articleView.html?idxno=3033332\"\n",
    "\n",
    "res = req.get(jeju)\n",
    "res"
   ]
  },
  {
   "cell_type": "code",
   "execution_count": 135,
   "metadata": {},
   "outputs": [
    {
     "name": "stdout",
     "output_type": "stream",
     "text": [
      "[11, 11, 11, 11, 11, 11]\n"
     ]
    },
    {
     "data": {
      "text/plain": [
       "11"
      ]
     },
     "execution_count": 135,
     "metadata": {},
     "output_type": "execute_result"
    }
   ],
   "source": [
    "from bs4 import BeautifulSoup as bs\n",
    "import re\n",
    "from collections import Counter\n",
    "\n",
    "soup = bs(res.content, 'lxml').text.replace(\" \",\"\")\n",
    "\n",
    "aa = []\n",
    "add = []\n",
    "\n",
    "for i in re.finditer(\"밤\",soup): aa.append(i.start()+1)\n",
    "for i in re.finditer(\"오후\",soup): aa.append(i.start()+2)\n",
    "for i in aa:\n",
    "    try: x = int(soup[i:i+2])\n",
    "    except: pass\n",
    "    add.append(x)\n",
    "    \n",
    "print(add)\n",
    "\n",
    "\n",
    "cnt = Counter(add)\n",
    "mode = cnt.most_common(1)\n",
    "mode[0][0]"
   ]
  },
  {
   "cell_type": "code",
   "execution_count": null,
   "metadata": {},
   "outputs": [],
   "source": [
    "\n"
   ]
  },
  {
   "cell_type": "code",
   "execution_count": null,
   "metadata": {},
   "outputs": [],
   "source": []
  }
 ],
 "metadata": {
  "kernelspec": {
   "display_name": "Python 3",
   "language": "python",
   "name": "python3"
  },
  "language_info": {
   "codemirror_mode": {
    "name": "ipython",
    "version": 3
   },
   "file_extension": ".py",
   "mimetype": "text/x-python",
   "name": "python",
   "nbconvert_exporter": "python",
   "pygments_lexer": "ipython3",
   "version": "3.8.5"
  }
 },
 "nbformat": 4,
 "nbformat_minor": 4
}
