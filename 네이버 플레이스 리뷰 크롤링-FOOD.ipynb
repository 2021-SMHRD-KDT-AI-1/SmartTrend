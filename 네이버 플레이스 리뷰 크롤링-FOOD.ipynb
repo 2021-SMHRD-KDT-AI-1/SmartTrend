{
 "cells": [
  {
   "cell_type": "code",
   "execution_count": 1,
   "metadata": {},
   "outputs": [],
   "source": [
    "#모듈 import\n",
    "import requests as req\n",
    "from bs4 import BeautifulSoup as bs\n",
    "import re\n",
    "from collections import Counter\n",
    "from tqdm import tqdm\n",
    "import time\n",
    "import pandas as pd\n",
    "from selenium import webdriver"
   ]
  },
  {
   "cell_type": "code",
   "execution_count": 2,
   "metadata": {},
   "outputs": [],
   "source": [
    "import requests\n",
    "import json\n",
    "from urllib.parse import urlencode as urlEn"
   ]
  },
  {
   "cell_type": "code",
   "execution_count": null,
   "metadata": {},
   "outputs": [],
   "source": []
  },
  {
   "cell_type": "code",
   "execution_count": 225,
   "metadata": {},
   "outputs": [],
   "source": [
    "global d_list\n",
    "global err\n",
    "\n",
    "pog = []\n",
    "neg = []\n"
   ]
  },
  {
   "cell_type": "code",
   "execution_count": 283,
   "metadata": {},
   "outputs": [],
   "source": [
    "idasd=[\n",
    "    \n",
    "\n",
    "#     ['37749845', 5900],\n",
    "#     ['1115227511', 5700],\n",
    "#     ['11592650', 2571],\n",
    "#     ['36139877', 15272],\n",
    "#     ['1725895520', 3678],\n",
    "#     ['12800337', 3460],\n",
    "#     ['37408005', 7600],\n",
    "#     ['18282060', 10600],\n",
    "#     ['33167269', 7680],\n",
    "#     ['12846157', 8200],\n",
    "#     ['11736109', 6200],\n",
    "#     ['11714721', 6491],\n",
    "#     ['36449091', 5513],\n",
    "#     ['18364648', 6238],\n",
    "#     ['36177764', 4659],\n",
    "#     ['33418353', 3000],\n",
    "#     ['12011606', 5513],\n",
    "#     ['11871325', 4097],\n",
    "#     ['1977855888', 3067],\n",
    "#     ['1170663310', 2127],\n",
    "#     ['11848921', 5484],\n",
    "#     ['11797314', 3987],\n",
    "#     ['17150328', 3451],\n",
    "#     ['13112887', 4230],\n",
    "#     ['32223475', 3130],\n",
    "#     ['36139349', 3008],\n",
    "#     ['36620318', 3390],\n",
    "#     ['11735791', 2884],\n",
    "#     ['1233140982', 2889],\n",
    "#     ['21697562', 2780],\n",
    "#     ['766197218', 3780]\n",
    "    \n",
    "#     ['11544030', 1494],\n",
    "#     ['19574909', 1071],\n",
    "#     ['1823037411', 1546],\n",
    "#     ['38287105', 3000],\n",
    "#     ['35586924', 1174],\n",
    "#     ['35366076', 1683],\n",
    "    #['33948989', 5914],\n",
    "    #['1084658222', 4183],\n",
    "#     ['11479224', 1160],\n",
    "#     ['13281235', 1773],\n",
    "#     ['15550980', 3389],\n",
    "#     ['12955683', 1899],\n",
    "#     ['37203388', 1504],\n",
    "#     ['13047339', 1628],\n",
    "#     ['11590101', 1637]\n",
    "    \n",
    "    \n",
    "# ['37036817', 2429],\n",
    "# ['10968214', 2624],\n",
    "# ['11859878', 2376],\n",
    "# ['15305467', 1567],\n",
    "# ['34438090', 2729],\n",
    "# ['37520615', 1519],\n",
    "# ['998885728', 1803],\n",
    "# ['37349949', 1211],\n",
    "# ['254598085', 2165],\n",
    "# ['20471728', 708],\n",
    "# ['20027201', 1061],\n",
    "# ['32159046', 1104],\n",
    "# ['12068672', 1135],\n",
    "# ['19550612', 1157],\n",
    "# ['1742693560', 3973],\n",
    "# ['20586669', 2599],\n",
    "# ['37717345', 2345],\n",
    "# ['1617550549', 2586],\n",
    "# ['1796864423', 1605]\n",
    "    \n",
    "    \n",
    "# ['11848863', 2772],\n",
    "# ['12943755', 2045],\n",
    "# ['38347285', 824],\n",
    "# ['13297601', 657],\n",
    "# ['1722031611', 1049],\n",
    "# ['11797314', 1186],\n",
    "# ['36139349', 3088],\n",
    "# ['16784383', 816],\n",
    "# ['11784305', 804],\n",
    "# ['20027334', 689],\n",
    "# ['1594068869', 737],\n",
    "# ['12956529', 1774],\n",
    "# ['1067636662', 581],\n",
    "# ['33988633', 489],\n",
    "# ['35644550', 2129],\n",
    "# ['601999582', 718],\n",
    "# ['37835897', 851],\n",
    "# ['36680710', 2591],\n",
    "# ['16052530', 823],\n",
    "# ['1990405594', 909],\n",
    "# ['1019741144', 846],\n",
    "# ['1202283337', 1498],\n",
    "# ['1459241235', 1236],\n",
    "# ['34624733', 531]\n",
    "    \n",
    "    \n",
    "    \n",
    "# ['11671389', 2791],\n",
    "# ['33489623', 2559],\n",
    "# ['36139706', 4811],\n",
    "# ['1458631619', 1047],\n",
    "# ['1996110680', 787],\n",
    "# ['11736884', 1178],\n",
    "# ['17316779', 1159],\n",
    "# ['1137171523', 994],\n",
    "# ['17403481', 2240],\n",
    "# ['35637998', 1389],\n",
    "# ['1951621111', 804],\n",
    "# ['1803092279', 1628],\n",
    "# ['504379348', 1064],\n",
    "# ['1333670756', 2126],\n",
    "# ['172141303', 3290]\n",
    "    \n",
    "    \n",
    "    \n",
    "['1133417608', 1348],\n",
    "['37174820', 1158],\n",
    "['1269215239', 1174],\n",
    "['32589598', 1351],\n",
    "['13044258', 1221],\n",
    "['34396373', 1550],\n",
    "['31197467', 1104],\n",
    "['19512899', 3580],\n",
    "['1491718614', 833],\n",
    "['37890798', 856],\n",
    "['35608479', 1032]\n",
    "    \n",
    "    \n",
    "]"
   ]
  },
  {
   "cell_type": "code",
   "execution_count": 284,
   "metadata": {},
   "outputs": [
    {
     "name": "stderr",
     "output_type": "stream",
     "text": [
      "100%|████████████████████████████████████████████████████████████████████████████████████| 7/7 [00:03<00:00,  2.31it/s]\n",
      "  0%|                                                                                            | 0/6 [00:00<?, ?it/s]"
     ]
    },
    {
     "name": "stdout",
     "output_type": "stream",
     "text": [
      "에러수: 0\n",
      "73399\n",
      "27649\n"
     ]
    },
    {
     "name": "stderr",
     "output_type": "stream",
     "text": [
      "100%|████████████████████████████████████████████████████████████████████████████████████| 6/6 [00:02<00:00,  2.48it/s]\n",
      "  0%|                                                                                            | 0/6 [00:00<?, ?it/s]"
     ]
    },
    {
     "name": "stdout",
     "output_type": "stream",
     "text": [
      "에러수: 0\n",
      "73482\n",
      "27771\n"
     ]
    },
    {
     "name": "stderr",
     "output_type": "stream",
     "text": [
      "100%|████████████████████████████████████████████████████████████████████████████████████| 6/6 [00:02<00:00,  2.47it/s]\n",
      "  0%|                                                                                            | 0/8 [00:00<?, ?it/s]"
     ]
    },
    {
     "name": "stdout",
     "output_type": "stream",
     "text": [
      "에러수: 0\n",
      "73557\n",
      "27929\n"
     ]
    },
    {
     "name": "stderr",
     "output_type": "stream",
     "text": [
      "100%|████████████████████████████████████████████████████████████████████████████████████| 8/8 [00:03<00:00,  2.23it/s]\n",
      "  0%|                                                                                            | 0/7 [00:00<?, ?it/s]"
     ]
    },
    {
     "name": "stdout",
     "output_type": "stream",
     "text": [
      "에러수: 1\n",
      "74214\n",
      "27967\n"
     ]
    },
    {
     "name": "stderr",
     "output_type": "stream",
     "text": [
      "100%|████████████████████████████████████████████████████████████████████████████████████| 7/7 [00:02<00:00,  2.56it/s]\n",
      "  0%|                                                                                            | 0/9 [00:00<?, ?it/s]"
     ]
    },
    {
     "name": "stdout",
     "output_type": "stream",
     "text": [
      "에러수: 0\n",
      "74237\n",
      "28248\n"
     ]
    },
    {
     "name": "stderr",
     "output_type": "stream",
     "text": [
      "100%|████████████████████████████████████████████████████████████████████████████████████| 9/9 [00:03<00:00,  2.33it/s]\n",
      "  0%|                                                                                            | 0/6 [00:00<?, ?it/s]"
     ]
    },
    {
     "name": "stdout",
     "output_type": "stream",
     "text": [
      "에러수: 1\n",
      "74317\n",
      "28617\n"
     ]
    },
    {
     "name": "stderr",
     "output_type": "stream",
     "text": [
      "100%|████████████████████████████████████████████████████████████████████████████████████| 6/6 [00:02<00:00,  2.06it/s]\n",
      "  0%|                                                                                           | 0/22 [00:00<?, ?it/s]"
     ]
    },
    {
     "name": "stdout",
     "output_type": "stream",
     "text": [
      "에러수: 10\n",
      "74499\n",
      "28708\n"
     ]
    },
    {
     "name": "stderr",
     "output_type": "stream",
     "text": [
      "100%|██████████████████████████████████████████████████████████████████████████████████| 22/22 [00:12<00:00,  1.75it/s]\n",
      "  0%|                                                                                            | 0/4 [00:00<?, ?it/s]"
     ]
    },
    {
     "name": "stdout",
     "output_type": "stream",
     "text": [
      "에러수: 41\n",
      "74859\n",
      "29420\n"
     ]
    },
    {
     "name": "stderr",
     "output_type": "stream",
     "text": [
      "100%|████████████████████████████████████████████████████████████████████████████████████| 4/4 [00:02<00:00,  1.85it/s]\n",
      "  0%|                                                                                            | 0/4 [00:00<?, ?it/s]"
     ]
    },
    {
     "name": "stdout",
     "output_type": "stream",
     "text": [
      "에러수: 10\n",
      "74859\n",
      "29559\n"
     ]
    },
    {
     "name": "stderr",
     "output_type": "stream",
     "text": [
      "100%|████████████████████████████████████████████████████████████████████████████████████| 4/4 [00:03<00:00,  1.27it/s]\n",
      "  0%|                                                                                            | 0/5 [00:00<?, ?it/s]"
     ]
    },
    {
     "name": "stdout",
     "output_type": "stream",
     "text": [
      "에러수: 24\n",
      "74865\n",
      "29689\n"
     ]
    },
    {
     "name": "stderr",
     "output_type": "stream",
     "text": [
      "100%|████████████████████████████████████████████████████████████████████████████████████| 5/5 [00:02<00:00,  1.92it/s]"
     ]
    },
    {
     "name": "stdout",
     "output_type": "stream",
     "text": [
      "에러수: 9\n",
      "74865\n",
      "29902\n"
     ]
    },
    {
     "name": "stderr",
     "output_type": "stream",
     "text": [
      "\n"
     ]
    }
   ],
   "source": [
    "for i in idasd:\n",
    "    ashskjd(i[0], i[1])"
   ]
  },
  {
   "cell_type": "code",
   "execution_count": 273,
   "metadata": {},
   "outputs": [],
   "source": [
    "def ashskjd(x12, y12):    \n",
    "    URL = 'https://pcmap-api.place.naver.com/graphql'\n",
    "    header = {\n",
    "            'authority': 'pcmap-api.place.naver.com',\n",
    "            'user-agent': 'Mozilla/5.0 (Windows NT 10.0; Win64; x64) AppleWebKit/537.36 (KHTML, like Gecko) Chrome/91.0.4472.77 Safari/537.36'\n",
    "        }\n",
    "\n",
    "    d_list = []\n",
    "    err = 0\n",
    "    global pog\n",
    "    global neg\n",
    "\n",
    "    for i4 in tqdm(range(1, int(y12/150))):\n",
    "        while (True):\n",
    "        \n",
    "            try:\n",
    "                data = {\n",
    "                    \"operationName\": \"getVisitorReviews\",\n",
    "                    \"variables\": {\n",
    "                        \"input\": {\n",
    "                            \"businessId\": x12,\n",
    "                            \"page\": i4,\n",
    "                            \"display\": 100,\n",
    "                            \"isPhotoUsed\": False,\n",
    "                            \"theme\": \"allTypes\",\n",
    "                            \"sort\": \"rating\",\n",
    "                            \"order\": 1,\n",
    "                            \"includeContent\": True,\n",
    "                            \"getAuthorInfo\": True\n",
    "                        },\n",
    "                        \"id\": x12\n",
    "                    },\n",
    "                    \"query\": \"query getVisitorReviews($input: VisitorReviewsInput) {\\n  visitorReviews(input: $input) {\\n    items {\\n      id\\n      rating\\n      author {\\n        id\\n        nickname\\n        from\\n        imageUrl\\n        objectId\\n        url\\n        review {\\n          totalCount\\n          imageCount\\n          avgRating\\n          __typename\\n        }\\n        __typename\\n      }\\n      body\\n      thumbnail\\n      media {\\n        type\\n        thumbnail\\n        __typename\\n      }\\n      tags\\n      status\\n      visitCount\\n      viewCount\\n      visited\\n      created\\n      reply {\\n        editUrl\\n        body\\n        editedBy\\n        created\\n        replyTitle\\n        __typename\\n      }\\n      originType\\n      item {\\n        name\\n        code\\n        options\\n        __typename\\n      }\\n      language\\n      highlightOffsets\\n      translatedText\\n      businessName\\n      showBookingItemName\\n      showBookingItemOptions\\n      bookingItemName\\n      bookingItemOptions\\n      __typename\\n    }\\n    starDistribution {\\n      score\\n      count\\n      __typename\\n    }\\n    hideProductSelectBox\\n    total\\n    __typename\\n  }\\n}\\n\"\n",
    "                }\n",
    "\n",
    "\n",
    "                res = requests.post(URL, headers=header, json=data)\n",
    "                d_list += [res.json()]\n",
    "                break\n",
    "            except: \n",
    "                err += 1\n",
    "                \n",
    "\n",
    "\n",
    "\n",
    "\n",
    "    for i in range(0, len(d_list)):\n",
    "        for j in range(0, len(d_list[0]['data']['visitorReviews']['items'])):\n",
    "            x = d_list[i]['data']['visitorReviews']['items'][j]['rating']\n",
    "            if (x>=4.5):\n",
    "                pog += [d_list[i]['data']['visitorReviews']['items'][j]['body']]\n",
    "            elif (x<=3):\n",
    "                neg += [d_list[i]['data']['visitorReviews']['items'][j]['body']]\n",
    "\n",
    "    print(\"에러수: \"+str(err))\n",
    "    print(len(pog))\n",
    "    print(len(neg))"
   ]
  },
  {
   "cell_type": "code",
   "execution_count": null,
   "metadata": {},
   "outputs": [],
   "source": []
  },
  {
   "cell_type": "code",
   "execution_count": null,
   "metadata": {},
   "outputs": [],
   "source": []
  },
  {
   "cell_type": "code",
   "execution_count": null,
   "metadata": {},
   "outputs": [],
   "source": []
  },
  {
   "cell_type": "code",
   "execution_count": 263,
   "metadata": {},
   "outputs": [
    {
     "name": "stdout",
     "output_type": "stream",
     "text": [
      "54\n",
      "100\n"
     ]
    }
   ],
   "source": [
    "print(len(d_list))\n",
    "print(len(d_list[0]['data']['visitorReviews']['items']))"
   ]
  },
  {
   "cell_type": "code",
   "execution_count": 264,
   "metadata": {},
   "outputs": [],
   "source": [
    "for i in range(0, len(d_list)):\n",
    "    for j in range(0, len(d_list[0]['data']['visitorReviews']['items'])):\n",
    "        x = d_list[i]['data']['visitorReviews']['items'][j]['rating']\n",
    "        if (x>=4.5):\n",
    "            pog += [d_list[i]['data']['visitorReviews']['items'][j]['body']]\n",
    "        elif (x<=3):\n",
    "            neg += [d_list[i]['data']['visitorReviews']['items'][j]['body']]"
   ]
  },
  {
   "cell_type": "code",
   "execution_count": 265,
   "metadata": {
    "scrolled": true
   },
   "outputs": [
    {
     "name": "stdout",
     "output_type": "stream",
     "text": [
      "22929\n",
      "1222\n"
     ]
    }
   ],
   "source": [
    "print(len(pog))\n",
    "print(len(neg))"
   ]
  },
  {
   "cell_type": "code",
   "execution_count": 89,
   "metadata": {},
   "outputs": [],
   "source": [
    "total_data1 = pd.read_csv('total.csv', encoding='CP949')"
   ]
  },
  {
   "cell_type": "code",
   "execution_count": 90,
   "metadata": {},
   "outputs": [],
   "source": [
    "total_data1 = total_data1.drop(['Unnamed: 0'], axis=1)"
   ]
  },
  {
   "cell_type": "code",
   "execution_count": 91,
   "metadata": {},
   "outputs": [
    {
     "data": {
      "text/plain": [
       "Index(['document'], dtype='object')"
      ]
     },
     "execution_count": 91,
     "metadata": {},
     "output_type": "execute_result"
    }
   ],
   "source": [
    "total_data1.columns = ['document']\n",
    "total_data1.columns"
   ]
  },
  {
   "cell_type": "code",
   "execution_count": 92,
   "metadata": {},
   "outputs": [],
   "source": [
    "total_data1.drop_duplicates(subset=['document'], inplace=True)\n",
    "total_data1\n",
    "total_data1 = total_data1.dropna(how='any')"
   ]
  },
  {
   "cell_type": "code",
   "execution_count": 93,
   "metadata": {},
   "outputs": [],
   "source": [
    "total_data1['document'] = total_data1['document'].str.replace(\"[^ㄱ-ㅎㅏ-ㅣ가-힣 ]\",\"\")"
   ]
  },
  {
   "cell_type": "code",
   "execution_count": 94,
   "metadata": {},
   "outputs": [
    {
     "name": "stdout",
     "output_type": "stream",
     "text": [
      "11630\n"
     ]
    }
   ],
   "source": [
    "total_data1['document'].replace('', np.nan, inplace=True)\n",
    "total_data1 = total_data1.dropna(how='any')\n",
    "print(len(total_data1))"
   ]
  },
  {
   "cell_type": "code",
   "execution_count": 88,
   "metadata": {},
   "outputs": [],
   "source": [
    "total_data1.to_csv('13865_hotel_neg.csv', encoding = 'CP949')"
   ]
  },
  {
   "cell_type": "code",
   "execution_count": null,
   "metadata": {},
   "outputs": [],
   "source": []
  },
  {
   "cell_type": "code",
   "execution_count": 12,
   "metadata": {},
   "outputs": [],
   "source": [
    "from konlpy.tag import Okt\n",
    "import numpy as np"
   ]
  },
  {
   "cell_type": "code",
   "execution_count": 285,
   "metadata": {},
   "outputs": [
    {
     "name": "stdout",
     "output_type": "stream",
     "text": [
      "74865\n",
      "29902\n"
     ]
    }
   ],
   "source": [
    "pogDf = pd.DataFrame(pog)\n",
    "negDf = pd.DataFrame(neg)\n",
    "\n",
    "#데이터 value의 수 확인\n",
    "print(len(pogDf))\n",
    "print(len(negDf))"
   ]
  },
  {
   "cell_type": "code",
   "execution_count": null,
   "metadata": {},
   "outputs": [],
   "source": []
  },
  {
   "cell_type": "code",
   "execution_count": 286,
   "metadata": {},
   "outputs": [],
   "source": [
    "#컬럼명 변경\n",
    "pogDf.columns = ['document']\n",
    "negDf.columns = ['document']"
   ]
  },
  {
   "cell_type": "code",
   "execution_count": 287,
   "metadata": {},
   "outputs": [
    {
     "name": "stdout",
     "output_type": "stream",
     "text": [
      "54436\n",
      "21945\n"
     ]
    }
   ],
   "source": [
    "#유니크한 value의 개수 확인\n",
    "print(pogDf['document'].nunique())\n",
    "print(negDf['document'].nunique())\n",
    "\n",
    "# 중복 제거\n",
    "pogDf.drop_duplicates(subset=['document'], inplace=True)\n",
    "negDf.drop_duplicates(subset=['document'], inplace=True)"
   ]
  },
  {
   "cell_type": "code",
   "execution_count": 288,
   "metadata": {},
   "outputs": [
    {
     "name": "stdout",
     "output_type": "stream",
     "text": [
      "document    0\n",
      "dtype: int64\n",
      "document    0\n",
      "dtype: int64\n"
     ]
    }
   ],
   "source": [
    "#결측치 개수 확인\n",
    "print(pogDf.isnull().sum())\n",
    "print(negDf.isnull().sum())\n",
    "\n",
    "# 결측치 제거\n",
    "pogDf = pogDf.dropna(how='any')\n",
    "negDf = negDf.dropna(how='any')"
   ]
  },
  {
   "cell_type": "code",
   "execution_count": 289,
   "metadata": {},
   "outputs": [
    {
     "data": {
      "text/html": [
       "<div>\n",
       "<style scoped>\n",
       "    .dataframe tbody tr th:only-of-type {\n",
       "        vertical-align: middle;\n",
       "    }\n",
       "\n",
       "    .dataframe tbody tr th {\n",
       "        vertical-align: top;\n",
       "    }\n",
       "\n",
       "    .dataframe thead th {\n",
       "        text-align: right;\n",
       "    }\n",
       "</style>\n",
       "<table border=\"1\" class=\"dataframe\">\n",
       "  <thead>\n",
       "    <tr style=\"text-align: right;\">\n",
       "      <th></th>\n",
       "      <th>document</th>\n",
       "    </tr>\n",
       "  </thead>\n",
       "  <tbody>\n",
       "    <tr>\n",
       "      <th>0</th>\n",
       "      <td>굳</td>\n",
       "    </tr>\n",
       "    <tr>\n",
       "      <th>1</th>\n",
       "      <td>불친절함</td>\n",
       "    </tr>\n",
       "    <tr>\n",
       "      <th>3</th>\n",
       "      <td>굿</td>\n",
       "    </tr>\n",
       "    <tr>\n",
       "      <th>4</th>\n",
       "      <td>좋아용</td>\n",
       "    </tr>\n",
       "    <tr>\n",
       "      <th>5</th>\n",
       "      <td>네이버 스마트 주문시 가장가까운 곳으로 안내된 지점을 선택했는데 멀리 있는 지점이 ...</td>\n",
       "    </tr>\n",
       "    <tr>\n",
       "      <th>6</th>\n",
       "      <td>라떼가 너무 싱거워요우유인줄ㅜㅜ</td>\n",
       "    </tr>\n",
       "    <tr>\n",
       "      <th>7</th>\n",
       "      <td>계속 기다리라고 함</td>\n",
       "    </tr>\n",
       "    <tr>\n",
       "      <th>8</th>\n",
       "      <td>너무비싸요</td>\n",
       "    </tr>\n",
       "    <tr>\n",
       "      <th>9</th>\n",
       "      <td>사람이넘많아못가겠어</td>\n",
       "    </tr>\n",
       "    <tr>\n",
       "      <th>10</th>\n",
       "      <td>ㅡ</td>\n",
       "    </tr>\n",
       "  </tbody>\n",
       "</table>\n",
       "</div>"
      ],
      "text/plain": [
       "                                             document\n",
       "0                                                   굳\n",
       "1                                                불친절함\n",
       "3                                                   굿\n",
       "4                                                 좋아용\n",
       "5   네이버 스마트 주문시 가장가까운 곳으로 안내된 지점을 선택했는데 멀리 있는 지점이 ...\n",
       "6                                   라떼가 너무 싱거워요우유인줄ㅜㅜ\n",
       "7                                          계속 기다리라고 함\n",
       "8                                               너무비싸요\n",
       "9                                          사람이넘많아못가겠어\n",
       "10                                                  ㅡ"
      ]
     },
     "execution_count": 289,
     "metadata": {},
     "output_type": "execute_result"
    }
   ],
   "source": [
    "# replace 에 포함된 나머지 문자들 제거\n",
    "pogDf['document'] = pogDf['document'].str.replace(\"[^ㄱ-ㅎㅏ-ㅣ가-힣 ]\",\"\")\n",
    "negDf['document'] = negDf['document'].str.replace(\"[^ㄱ-ㅎㅏ-ㅣ가-힣 ]\",\"\")\n",
    "\n",
    "pogDf[:10]\n",
    "negDf[:10]"
   ]
  },
  {
   "cell_type": "code",
   "execution_count": 290,
   "metadata": {},
   "outputs": [
    {
     "name": "stdout",
     "output_type": "stream",
     "text": [
      "54436\n",
      "21945\n",
      "document    159\n",
      "dtype: int64\n",
      "document    78\n",
      "dtype: int64\n"
     ]
    }
   ],
   "source": [
    "# 빈 값이 얼마나 되는지 확인\n",
    "pogDf['document'].replace('', np.nan, inplace=True)\n",
    "negDf['document'].replace('', np.nan, inplace=True)\n",
    "print(len(pogDf))\n",
    "print(len(negDf))\n",
    "print(pogDf.isnull().sum())\n",
    "print(negDf.isnull().sum())"
   ]
  },
  {
   "cell_type": "code",
   "execution_count": 291,
   "metadata": {
    "scrolled": true
   },
   "outputs": [
    {
     "name": "stdout",
     "output_type": "stream",
     "text": [
      "54277\n",
      "21867\n"
     ]
    }
   ],
   "source": [
    "# 빈 공간 제거\n",
    "pogDf = pogDf.dropna(how='any')\n",
    "print(len(pogDf))\n",
    "\n",
    "negDf = negDf.dropna(how='any')\n",
    "print(len(negDf))"
   ]
  },
  {
   "cell_type": "code",
   "execution_count": null,
   "metadata": {},
   "outputs": [],
   "source": []
  },
  {
   "cell_type": "code",
   "execution_count": 292,
   "metadata": {},
   "outputs": [],
   "source": [
    "#csv로 저장(길이_이름.csv로 저장)\n",
    "pogDf.to_csv('./food_pog/'+str(len(pogDf))+'_foodReview_p1.csv', encoding = 'CP949')\n"
   ]
  },
  {
   "cell_type": "code",
   "execution_count": 293,
   "metadata": {},
   "outputs": [],
   "source": [
    "negDf.to_csv('./food_neg/'+str(len(negDf))+'_foodReview_n1.csv', encoding = 'CP949')"
   ]
  },
  {
   "cell_type": "code",
   "execution_count": null,
   "metadata": {},
   "outputs": [],
   "source": []
  }
 ],
 "metadata": {
  "kernelspec": {
   "display_name": "Python 3",
   "language": "python",
   "name": "python3"
  },
  "language_info": {
   "codemirror_mode": {
    "name": "ipython",
    "version": 3
   },
   "file_extension": ".py",
   "mimetype": "text/x-python",
   "name": "python",
   "nbconvert_exporter": "python",
   "pygments_lexer": "ipython3",
   "version": "3.8.5"
  }
 },
 "nbformat": 4,
 "nbformat_minor": 4
}
