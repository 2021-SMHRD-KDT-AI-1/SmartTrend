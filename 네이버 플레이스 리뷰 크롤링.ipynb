{
 "cells": [
  {
   "cell_type": "code",
   "execution_count": null,
   "metadata": {},
   "outputs": [],
   "source": [
    "#selenium 설치\n",
    "!pip install selenium"
   ]
  },
  {
   "cell_type": "code",
   "execution_count": 1,
   "metadata": {},
   "outputs": [],
   "source": [
    "#모듈 import\n",
    "import requests as req\n",
    "from bs4 import BeautifulSoup as bs\n",
    "import re\n",
    "from collections import Counter\n",
    "from tqdm import tqdm\n",
    "import time\n",
    "import pandas as pd\n",
    "from selenium import webdriver"
   ]
  },
  {
   "cell_type": "markdown",
   "metadata": {},
   "source": [
    "# URL과 리뷰 수를 변수에 할당"
   ]
  },
  {
   "cell_type": "markdown",
   "metadata": {},
   "source": [
    "    1. url과 reviewC 변수에 리스트 형태로 할당한다.\n",
    "    2. url 리스트의 개수와 reviewC 리스트의 개수가 같아야 한다."
   ]
  },
  {
   "cell_type": "code",
   "execution_count": 3,
   "metadata": {
    "scrolled": true
   },
   "outputs": [
    {
     "name": "stdout",
     "output_type": "stream",
     "text": [
      "3\n",
      "3\n"
     ]
    }
   ],
   "source": [
    "#별점이 낮은 리뷰부터 정렬되어 있는 URL\n",
    "url = [    \n",
    "'https://pcmap.place.naver.com/place/35750830/review/visitor?entry=pll&from=map&fromPanelNum=2&ts=1622627503403&reviewSort=rating&reviewOrder=1',\n",
    "'https://pcmap.place.naver.com/place/11589853/review/visitor?entry=pll&from=map&fromPanelNum=2&ts=1622627647204&reviewSort=rating&reviewOrder=1',\n",
    "'https://pcmap.place.naver.com/place/11846866/review/visitor?entry=pll&from=map&fromPanelNum=2&ts=1622627874848&reviewSort=rating&reviewOrder=1'\n",
    "]\n",
    "\n",
    "\n",
    "#각 URL의 리뷰 개수\n",
    "reviewC = [22932, 29666, 38537]\n",
    "\n",
    "\n",
    "#두 리스트의 길이가 같은지 확인\n",
    "print(len(url))\n",
    "print(len(reviewC))"
   ]
  },
  {
   "cell_type": "markdown",
   "metadata": {},
   "source": [
    "# restFunction함수 정의"
   ]
  },
  {
   "cell_type": "markdown",
   "metadata": {},
   "source": [
    "restFunction(x, y):\n",
    "\n",
    "    1. 매개변수 x는 URL \n",
    "    2. 매개변수 y는 해당 URL의 리뷰 개수"
   ]
  },
  {
   "cell_type": "code",
   "execution_count": 3,
   "metadata": {},
   "outputs": [],
   "source": [
    "def restFunction(x, y):\n",
    "    #크롬 제어\n",
    "    driver = webdriver.Chrome('./chromedriver.exe')\n",
    "    driver.implicitly_wait(30)\n",
    "    \n",
    "    #크롬에 url 가져오기\n",
    "    driver.get(x)\n",
    "\n",
    " \n",
    "\n",
    "    #더보기 버튼 변수할당\n",
    "    more = driver.find_element_by_css_selector('a._3iTUo')\n",
    "    \n",
    "    #더보기 버튼 클릭\n",
    "    #별점이 낮은 리뷰를 우선순위로 전체 리뷰의 절반만 가져온다.\n",
    "    #리뷰 수의 1/20만큼 클릭(리뷰 수/10(한페이지당 10개)/2(전체 리뷰의 절반))\n",
    "    for i in tqdm(range(0, int(y*(1/20)))):\n",
    "        more.click()   \n",
    "\n",
    "       \n",
    "    \n",
    "    #soup에 페이지 저장\n",
    "    soup = bs(driver.page_source, 'lxml')\n",
    "    \n",
    "    #클래스가 '_1Z_GL'인 div들을 divs변수에 저장\n",
    "    #클래스가 '_1Z_GL'인 div들은 리뷰의 별점과 내용을 가지고있는 단위 div이다.\n",
    "    divs = soup.select('div._1Z_GL')\n",
    "\n",
    "    \n",
    "    \n",
    "    #for문으로 div를 하나씩 가져오기\n",
    "    for i in divs:\n",
    "        #해당 div의 별점 가져오기\n",
    "        tt = i.select('span.WoYOw')\n",
    "        try: rText = tt[0].text\n",
    "        except: pass\n",
    "        \n",
    "        #해당 div의 리뷰 가져오기\n",
    "        ss = i.select('span._2tObC')\n",
    "        try: rStar = ss[0].text\n",
    "        except: pass\n",
    "        \n",
    "        #3점을 기준으로 긍정/부정 분류 및 저장\n",
    "        if (rStar=='5'):\n",
    "            pog.append(rText)\n",
    "        elif (rStar=='4.5'):\n",
    "            pog.append(rText)\n",
    "        elif (rStar=='4'):\n",
    "            pog.append(rText)\n",
    "        elif (rStar=='3'):\n",
    "            neg.append(rText)\n",
    "        elif (rStar=='2.5'):\n",
    "            neg.append(rText)\n",
    "        elif (rStar=='2'):\n",
    "            neg.append(rText)\n",
    "        elif (rStar=='1.5'):\n",
    "            neg.append(rText)\n",
    "        elif (rStar=='1'):\n",
    "            neg.append(rText)\n",
    "        elif (rStar=='0.5'):\n",
    "            neg.append(rText)\n",
    "\n",
    "    "
   ]
  },
  {
   "cell_type": "markdown",
   "metadata": {},
   "source": [
    "# 실행"
   ]
  },
  {
   "cell_type": "code",
   "execution_count": null,
   "metadata": {},
   "outputs": [],
   "source": [
    "#리뷰를 담을 리스트 선언\n",
    "pog = []#긍정\n",
    "neg = []#부정\n",
    "\n",
    "\n",
    "#URL수만큼 restFunction실행\n",
    "#tqdm으로 진행상황 확인\n",
    "for ii in tqdm(range(0, len(url))):\n",
    "    restFunction(url[ii], pageC[ii])"
   ]
  },
  {
   "cell_type": "markdown",
   "metadata": {},
   "source": [
    "# 확인 및 저장"
   ]
  },
  {
   "cell_type": "code",
   "execution_count": 5,
   "metadata": {},
   "outputs": [
    {
     "name": "stdout",
     "output_type": "stream",
     "text": [
      "25250\n",
      "7484\n"
     ]
    }
   ],
   "source": [
    "#긍정/부정으로 분류된 리뷰 개수 확인\n",
    "print(len(pog))\n",
    "print(len(neg))"
   ]
  },
  {
   "cell_type": "code",
   "execution_count": 6,
   "metadata": {},
   "outputs": [],
   "source": [
    "#csv로 저장(길이_이름.csv로 저장)\n",
    "restaurantReview_df = pd.DataFrame(pog)\n",
    "restaurantReview_df.to_csv(str(len(pog))+'_landReview_p1.csv', encoding = '')\n",
    "restaurantReview_df = pd.DataFrame(neg)\n",
    "restaurantReview_df.to_csv(str(len(neg))+'_landReview_n1.csv', encoding = '')"
   ]
  }
 ],
 "metadata": {
  "kernelspec": {
   "display_name": "Python 3",
   "language": "python",
   "name": "python3"
  },
  "language_info": {
   "codemirror_mode": {
    "name": "ipython",
    "version": 3
   },
   "file_extension": ".py",
   "mimetype": "text/x-python",
   "name": "python",
   "nbconvert_exporter": "python",
   "pygments_lexer": "ipython3",
   "version": "3.8.5"
  }
 },
 "nbformat": 4,
 "nbformat_minor": 4
}
